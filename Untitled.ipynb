{
 "cells": [
  {
   "cell_type": "code",
   "execution_count": 12,
   "metadata": {},
   "outputs": [
    {
     "name": "stdout",
     "output_type": "stream",
     "text": [
      "598797756.6\n"
     ]
    }
   ],
   "source": [
    " top5_streams = [2993988783, 1829621841, 1460802540, 1386258295, 1311243745]\n",
    "def fonk( top5_streams) :\n",
    "    for i in  top5_streams :\n",
    "        total= 0.\n",
    "        total += i\n",
    "        return total / len ( top5_streams)\n",
    "    \n",
    "    \n",
    "average =fonk(top5_streams)\n",
    "print(average)"
   ]
  },
  {
   "cell_type": "code",
   "execution_count": null,
   "metadata": {},
   "outputs": [],
   "source": [
    " "
   ]
  }
 ],
 "metadata": {
  "kernelspec": {
   "display_name": "Python 3",
   "language": "python",
   "name": "python3"
  },
  "language_info": {
   "codemirror_mode": {
    "name": "ipython",
    "version": 3
   },
   "file_extension": ".py",
   "mimetype": "text/x-python",
   "name": "python",
   "nbconvert_exporter": "python",
   "pygments_lexer": "ipython3",
   "version": "3.6.5"
  }
 },
 "nbformat": 4,
 "nbformat_minor": 2
}
